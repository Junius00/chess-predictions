{
 "cells": [
  {
   "cell_type": "code",
   "execution_count": 1,
   "id": "375769d6",
   "metadata": {},
   "outputs": [],
   "source": [
    "#load all necessary libraries\n",
    "import pandas as pd \n",
    "import numpy as np \n",
    "import scipy as scp\n",
    "import sklearn\n",
    "import seaborn as sb\n",
    "import matplotlib.pyplot as plt\n",
    "\n",
    "from sklearn.model_selection import train_test_split\n",
    "from sklearn.linear_model import LogisticRegression\n",
    "from sklearn.metrics import classification_report\n",
    "from sklearn import metrics \n",
    "from sklearn.metrics import confusion_matrix"
   ]
  },
  {
   "cell_type": "markdown",
   "id": "7bf6116b",
   "metadata": {},
   "source": [
    "# Data Preparation"
   ]
  },
  {
   "cell_type": "code",
   "execution_count": 2,
   "id": "40421079",
   "metadata": {},
   "outputs": [],
   "source": [
    "data = pd.read_csv('games.csv')"
   ]
  },
  {
   "cell_type": "markdown",
   "id": "430c8bdd",
   "metadata": {},
   "source": [
    "Splitting of moves to white and black first moves"
   ]
  },
  {
   "cell_type": "code",
   "execution_count": null,
   "id": "47905875",
   "metadata": {},
   "outputs": [],
   "source": [
    "data['white_first_move'] = data['moves'].str.split().str[0]\n",
    "data['black_first_move'] = data['moves'].str.split().str[1]"
   ]
  },
  {
   "cell_type": "markdown",
   "id": "ebd10308",
   "metadata": {},
   "source": [
    "Conversion of categorical values ('e4', 'e5', 'TRUE' etc.) to numeric values for regression; functions to extract and drop variables to test different sets of variables with the model"
   ]
  },
  {
   "cell_type": "code",
   "execution_count": 3,
   "id": "c57eac76",
   "metadata": {},
   "outputs": [],
   "source": [
    "move_to_int = {\n",
    "        'a3': 0,\n",
    "        'a4': 1,\n",
    "        'b3': 2,\n",
    "        'b4': 3,\n",
    "        'c3': 4,\n",
    "        'c4': 5,\n",
    "        'd3': 6,\n",
    "        'd4': 7,\n",
    "        'e3': 8,\n",
    "        'e4': 9,\n",
    "        'f3': 10,\n",
    "        'f4': 11,\n",
    "        'g3': 12,\n",
    "        'g4': 13,\n",
    "        'h3': 14,\n",
    "        'h4': 15,\n",
    "        'Na3': 16,\n",
    "        'Nc3': 17,\n",
    "        'Nf3': 18,\n",
    "        'Nh3': 19\n",
    "    }\n",
    "\n",
    "def WhiteMoveConvert(MOVE):    \n",
    "    return move_to_int[MOVE]\n",
    "\n",
    "def WhiteIntConvert(INT):\n",
    "    for move, i in move_to_int.items():\n",
    "        if i == INT:\n",
    "            return move\n",
    "    \n",
    "    return ''\n",
    "\n",
    "def RatedConvert(IS_RATED):\n",
    "    return 1 if IS_RATED == 'TRUE' else 0\n",
    "\n",
    "#default already has 'white_first_move', 'black_first_move'\n",
    "def get_extract_data(add_columns=[]):\n",
    "    extract_columns = ['white_first_move', 'black_first_move'] + add_columns\n",
    "    extract_data = pd.DataFrame(data[extract_columns])\n",
    "    extract_data['white_first_move_int'] = extract_data['white_first_move'].apply(WhiteMoveConvert)\n",
    "    if 'rated' in extract_columns:\n",
    "        extract_data['rated'] = extract_data['rated'].apply(RatedConvert)\n",
    "\n",
    "    extract_data = extract_data.dropna()\n",
    "    \n",
    "    return extract_data\n",
    "\n",
    "#default already drops 'white_first_move', 'black_first_move'\n",
    "def get_pred_resp(extract_data, more_drop_columns=[]):\n",
    "    return extract_data.drop(['black_first_move', 'white_first_move'] + more_drop_columns, axis=1), extract_data['black_first_move']"
   ]
  },
  {
   "cell_type": "markdown",
   "id": "a3b4ddfc",
   "metadata": {},
   "source": [
    "# Model Training and Results\n",
    "80:20 train and test split (non-random for score comparison); training of MLR model; generation of output .csv"
   ]
  },
  {
   "cell_type": "code",
   "execution_count": 4,
   "id": "30a57134",
   "metadata": {},
   "outputs": [],
   "source": [
    "def do_model(pred, resp):\n",
    "    pred_train, pred_test, resp_train, resp_test = sklearn.model_selection.train_test_split(pred, resp, test_size = 0.20, shuffle=False)\n",
    "\n",
    "    model = LogisticRegression(random_state=0, multi_class='multinomial', solver='saga', C=0.7, max_iter=10000).fit(pred_train, resp_train)\n",
    "\n",
    "    prob_arr = model.predict_proba(pred_test)\n",
    "\n",
    "    total_score = 0\n",
    "    cases = 0\n",
    "    \n",
    "    data_dict = {\n",
    "        'white_first_move': [],\n",
    "        'black_move_1': [],\n",
    "        'black_move_1_prob': [],\n",
    "        'black_move_2': [],\n",
    "        'black_move_2_prob': [],\n",
    "        'black_move_3': [],\n",
    "        'black_move_3_prob': [],\n",
    "        'black_move_4': [],\n",
    "        'black_move_4_prob': [],\n",
    "        'black_move_5': [],\n",
    "        'black_move_5_prob': [],\n",
    "        'black_first_move': [],\n",
    "        'score': [],\n",
    "        'rating_diff': [],\n",
    "        'turns': []\n",
    "    }\n",
    "    \n",
    "    for white_move_int, rating_diff, turns, probs, black_move in zip(pred_test['white_first_move_int'], pred_test['rating_diff'], pred_test['turns'], prob_arr, resp_test):\n",
    "        cases += 1\n",
    "\n",
    "        black_probs, black_moves = zip(*sorted(zip(probs, model.classes_)))\n",
    "\n",
    "\n",
    "        data_dict['white_first_move'].append(WhiteIntConvert(white_move_int))\n",
    "        score = 0\n",
    "        move_count = 1\n",
    "        for move, prob in zip(black_moves[19:14:-1], black_probs[19:14:-1]):\n",
    "            if move == black_move:\n",
    "                score = 100 * (prob/sum(black_probs[15:]))\n",
    "                total_score += score\n",
    "            \n",
    "            data_dict['black_move_{}'.format(move_count)].append(move)\n",
    "            data_dict['black_move_{}_prob'.format(move_count)].append(prob)\n",
    "            move_count += 1\n",
    "            \n",
    "        data_dict['black_first_move'].append(black_move)\n",
    "        data_dict['score'].append(score)\n",
    "        data_dict['rating_diff'].append(rating_diff)\n",
    "        data_dict['turns'].append(turns)\n",
    "    \n",
    "    print('Final average score:', round(total_score/cases, 2), '/100')\n",
    "    return pd.DataFrame(data=data_dict)"
   ]
  },
  {
   "cell_type": "markdown",
   "id": "ce7b0fc0",
   "metadata": {},
   "source": [
    "# Different Variable Cases"
   ]
  },
  {
   "cell_type": "code",
   "execution_count": 5,
   "id": "597a7d54",
   "metadata": {},
   "outputs": [
    {
     "name": "stdout",
     "output_type": "stream",
     "text": [
      "Final average score: 22.3 /100\n"
     ]
    }
   ],
   "source": [
    "#Rating Diff, Turns\n",
    "extract_data = get_extract_data(add_columns=['turns', 'white_rating', 'black_rating'])\n",
    "extract_data['rating_diff'] = extract_data['white_rating'] - extract_data['black_rating']\n",
    "pred, resp = get_pred_resp(extract_data, more_drop_columns=['white_rating', 'black_rating'])\n",
    "\n",
    "do_model(pred, resp).to_csv('output/ratingDiff_turns.csv')"
   ]
  },
  {
   "cell_type": "code",
   "execution_count": 6,
   "id": "00ecc469",
   "metadata": {
    "scrolled": true
   },
   "outputs": [
    {
     "name": "stdout",
     "output_type": "stream",
     "text": [
      "Final average score: 22.5 /100\n"
     ]
    }
   ],
   "source": [
    "#Ratings, Rating Diff, Turns\n",
    "extract_data = get_extract_data(add_columns=['turns', 'white_rating', 'black_rating'])\n",
    "extract_data['rating_diff'] = extract_data['white_rating'] - extract_data['black_rating']\n",
    "pred, resp = get_pred_resp(extract_data, more_drop_columns=[])\n",
    "\n",
    "do_model(pred, resp).to_csv('output/ratings_ratingDiff_turns.csv')"
   ]
  },
  {
   "cell_type": "code",
   "execution_count": 7,
   "id": "be6e78ec",
   "metadata": {
    "scrolled": true
   },
   "outputs": [
    {
     "name": "stdout",
     "output_type": "stream",
     "text": [
      "Final average score: 22.5 /100\n"
     ]
    }
   ],
   "source": [
    "#Ratings, Rating Diff, Turns, Is Rated\n",
    "extract_data = get_extract_data(add_columns=['turns', 'white_rating', 'black_rating', 'rated'])\n",
    "extract_data['rating_diff'] = extract_data['white_rating'] - extract_data['black_rating']\n",
    "pred, resp = get_pred_resp(extract_data, more_drop_columns=[])\n",
    "\n",
    "do_model(pred, resp).to_csv('output/ratings_ratingDiff_turns_rated.csv')"
   ]
  }
 ],
 "metadata": {
  "kernelspec": {
   "display_name": "Python 3 (ipykernel)",
   "language": "python",
   "name": "python3"
  },
  "language_info": {
   "codemirror_mode": {
    "name": "ipython",
    "version": 3
   },
   "file_extension": ".py",
   "mimetype": "text/x-python",
   "name": "python",
   "nbconvert_exporter": "python",
   "pygments_lexer": "ipython3",
   "version": "3.8.12"
  }
 },
 "nbformat": 4,
 "nbformat_minor": 5
}
